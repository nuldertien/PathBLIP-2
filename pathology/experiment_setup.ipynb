{
 "cells": [
  {
   "cell_type": "code",
   "execution_count": 2,
   "metadata": {},
   "outputs": [],
   "source": [
    "import pandas as pd\n",
    "import random\n",
    "\n",
    "# Path to your Excel file\n",
    "path = \"./data/experiment/experiment.xlsx\"\n",
    "\n",
    "# Load the Excel file\n",
    "with open(path, 'rb') as f:\n",
    "    df = pd.read_excel(f)\n",
    "\n",
    "# Set a random seed for reproducibility\n",
    "random.seed(42)\n",
    "\n",
    "# Iterate over each row and fill Random_1 to Random_4 with a random permutation\n",
    "for idx in df.index:\n",
    "    random_chain = random.sample([1, 2, 3, 4], 4)\n",
    "    df.at[idx, 'Ground Truth'] = random_chain[0]\n",
    "    df.at[idx, 'BioGPT'] = random_chain[1]\n",
    "    df.at[idx, 'BioGPT-Large'] = random_chain[2]\n",
    "    df.at[idx, 'BioGPT - ALL'] = random_chain[3]\n",
    "\n",
    "df['Ground Truth'] = df['Ground Truth'].astype(int)\n",
    "df['BioGPT'] = df['BioGPT'].astype(int)\n",
    "df['BioGPT-Large'] = df['BioGPT-Large'].astype(int)\n",
    "df['BioGPT - ALL'] = df['BioGPT - ALL'].astype(int)\n",
    "\n",
    "df = df.set_index('Medical Reports')"
   ]
  },
  {
   "cell_type": "code",
   "execution_count": 3,
   "metadata": {},
   "outputs": [],
   "source": [
    "# Load the Excel file\n",
    "with open(path, 'rb') as f:\n",
    "    df = pd.read_excel(f, index_col=0)"
   ]
  },
  {
   "cell_type": "code",
   "execution_count": 4,
   "metadata": {},
   "outputs": [],
   "source": [
    "import json\n",
    "\n",
    "path_biogpt = \"./data/experiment/biogpt.json\"\n",
    "path_biogpt_large = \"./data/experiment/biogpt_large2.json\"\n",
    "path_biogpt_all = \"./data/experiment/biogpt-all.json\"\n",
    "\n",
    "with open(path_biogpt, 'r') as f:\n",
    "    biogpt = json.load(f)\n",
    "\n",
    "with open(path_biogpt_large, 'r') as f:\n",
    "    biogpt_large = json.load(f)\n",
    "\n",
    "with open(path_biogpt_all, 'r') as f:\n",
    "    biogpt_all = json.load(f)"
   ]
  },
  {
   "cell_type": "code",
   "execution_count": 5,
   "metadata": {},
   "outputs": [],
   "source": [
    "from typing import Tuple\n",
    "import re\n",
    "\n",
    "def filter_duplicate_sentences(string: str) -> Tuple[str, int]:\n",
    "    sentence_split_pattern = r'(?<=[.?!])(?=\\s(?![0-9]))|(?<=\\n)'\n",
    "    splitted_string = re.split(sentence_split_pattern, string)\n",
    "    \n",
    "    new_string = []\n",
    "    for sentence in splitted_string:\n",
    "        sentence = sentence.strip()\n",
    "        if sentence not in new_string:\n",
    "            new_string.append(sentence)\n",
    "    \n",
    "    return (' '.join(new_string), len(splitted_string) - len(new_string))\n",
    "\n",
    "path_mapping = \"./data/patient_info/report_id_specimen_map.json\"\n",
    "with open(path_mapping, 'r') as f:\n",
    "    map_report_id_specimen = json.load(f)\n",
    "\n",
    "results = {}\n",
    "experiment_texts = {}\n",
    "for medical_report in df.index:\n",
    "    experiment_texts[medical_report] = {}\n",
    "    results[medical_report] = {}\n",
    "    specimen = map_report_id_specimen[medical_report]\n",
    "    for reports in biogpt:\n",
    "        if reports['image_id'] == specimen:\n",
    "            caption, n_duplicates = filter_duplicate_sentences(reports['caption'])\n",
    "            experiment_texts[medical_report]['Ground Truth'] = reports['gt_caption']\n",
    "            experiment_texts[medical_report]['BioGPT'] = caption\n",
    "            results[medical_report]['BioGPT'] = n_duplicates\n",
    "    for reports in biogpt_large:\n",
    "        if reports['image_id'] == specimen:\n",
    "            caption, n_duplicates = filter_duplicate_sentences(reports['caption'])\n",
    "            experiment_texts[medical_report]['BioGPT-Large'] = caption\n",
    "            results[medical_report]['BioGPT-Large'] = n_duplicates\n",
    "    for reports in biogpt_all:        \n",
    "        if reports['image_id'] == specimen:\n",
    "            caption, n_duplicates = filter_duplicate_sentences(reports['caption'])\n",
    "            experiment_texts[medical_report]['BioGPT - ALL'] = caption\n",
    "            results[medical_report]['BioGPT - ALL'] = n_duplicates"
   ]
  },
  {
   "cell_type": "code",
   "execution_count": 6,
   "metadata": {},
   "outputs": [],
   "source": [
    "shuffled = {}\n",
    "for medical_report, texts in experiment_texts.items():\n",
    "    shuffled[medical_report] = [\"\", \"\", \"\", \"\"]\n",
    "    \n",
    "    # This dict looks like: \n",
    "    # {\"Ground Truth\": a, \"BioGPT\": b, \"BioGPT-Large\": c, \"BioGPT - ALL\": d}\n",
    "    order = df.loc[medical_report].to_dict()\n",
    "    for title, index in order.items():\n",
    "        shuffled[medical_report][index-1] = f\"Text {index} ({medical_report})\\n\" + texts[title]"
   ]
  },
  {
   "cell_type": "code",
   "execution_count": null,
   "metadata": {},
   "outputs": [],
   "source": [
    "for x, y in shuffled.items():\n",
    "    print(f\"Medical Report Number: {x}\")\n",
    "    for d in y:\n",
    "        print(d)"
   ]
  }
 ],
 "metadata": {
  "kernelspec": {
   "display_name": "blipenv",
   "language": "python",
   "name": "python3"
  },
  "language_info": {
   "codemirror_mode": {
    "name": "ipython",
    "version": 3
   },
   "file_extension": ".py",
   "mimetype": "text/x-python",
   "name": "python",
   "nbconvert_exporter": "python",
   "pygments_lexer": "ipython3",
   "version": "3.8.10"
  }
 },
 "nbformat": 4,
 "nbformat_minor": 2
}
