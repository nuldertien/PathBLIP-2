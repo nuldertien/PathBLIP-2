{
 "cells": [
  {
   "cell_type": "code",
   "execution_count": 3,
   "metadata": {},
   "outputs": [],
   "source": [
    "from utils.text_preprocessor import TextPreprocessor"
   ]
  },
  {
   "cell_type": "markdown",
   "metadata": {},
   "source": [
    "## Read the data"
   ]
  },
  {
   "cell_type": "code",
   "execution_count": 4,
   "metadata": {},
   "outputs": [],
   "source": [
    "import json\n",
    "\n",
    "text_file = \"H&E_IHC_plus\"\n",
    "\n",
    "with open(f\"./data/medical_reports/{text_file}.json\") as f:\n",
    "    medical_reports_original = json.load(f)"
   ]
  },
  {
   "cell_type": "code",
   "execution_count": null,
   "metadata": {},
   "outputs": [],
   "source": [
    "medical_reports_original"
   ]
  },
  {
   "cell_type": "markdown",
   "metadata": {},
   "source": [
    "## Initialize the text preprocessor"
   ]
  },
  {
   "cell_type": "code",
   "execution_count": 6,
   "metadata": {},
   "outputs": [],
   "source": [
    "medical_reports_processor = TextPreprocessor(medical_reports_original, num_servers=5, verbose=True, use_heuristics=True)"
   ]
  },
  {
   "cell_type": "code",
   "execution_count": null,
   "metadata": {},
   "outputs": [],
   "source": [
    "preprocessed_medical_reports = medical_reports_processor.main_preprocessing()"
   ]
  },
  {
   "cell_type": "code",
   "execution_count": null,
   "metadata": {},
   "outputs": [],
   "source": [
    "medical_reports_processor.print_random_reports(preprocessed_medical_reports, 50)"
   ]
  },
  {
   "cell_type": "code",
   "execution_count": 9,
   "metadata": {},
   "outputs": [],
   "source": [
    "with open(f\"./data/medical_reports/{text_file}_preprocessed.json\", \"w\") as f:\n",
    "    json.dump(preprocessed_medical_reports, f, indent=4)"
   ]
  },
  {
   "cell_type": "code",
   "execution_count": 5,
   "metadata": {},
   "outputs": [],
   "source": [
    "# Load in the preprocessed medical reports\n",
    "\n",
    "with open(f\"./data/medical_reports/H&E_IHC_plus_preprocessed.json\") as f: \n",
    "    medical_reports = json.load(f)"
   ]
  },
  {
   "cell_type": "code",
   "execution_count": 25,
   "metadata": {},
   "outputs": [
    {
     "name": "stdout",
     "output_type": "stream",
     "text": [
      "19907\n"
     ]
    }
   ],
   "source": [
    "medical_report_nrs = [\n",
    "    report_nr\n",
    "    for patient_reports in medical_reports.values()\n",
    "    for report_nr in patient_reports.keys()\n",
    "]\n",
    "print(len(medical_report_nrs))"
   ]
  },
  {
   "cell_type": "code",
   "execution_count": 43,
   "metadata": {},
   "outputs": [],
   "source": [
    "# Open all data\n",
    "with open(f\"./data/medical_reports/all_data.json\") as f:\n",
    "    all_data = json.load(f)"
   ]
  },
  {
   "cell_type": "code",
   "execution_count": 55,
   "metadata": {},
   "outputs": [],
   "source": [
    "# Filter the medical report nrs, all_data has same structure as medical_reports\n",
    "all_data_filtered = {\n",
    "    patient_nr: {\n",
    "        report_nr: report\n",
    "        for report_nr, report in reports.items()\n",
    "        if report_nr in medical_report_nrs\n",
    "    }\n",
    "    for patient_nr, reports in all_data.items()\n",
    "}\n",
    "\n",
    "# Filter empty patients and join the report contents with \"' '.join(report.values())\"\n",
    "all_data_filtered = {\n",
    "    patient_nr: {\n",
    "        report_nr: ' '.join(report_content)\n",
    "        for report_nr, report_content in report.items()\n",
    "    }\n",
    "    for patient_nr, report in all_data_filtered.items()\n",
    "    if report\n",
    "}"
   ]
  },
  {
   "cell_type": "code",
   "execution_count": 57,
   "metadata": {},
   "outputs": [
    {
     "name": "stdout",
     "output_type": "stream",
     "text": [
      "19907\n"
     ]
    }
   ],
   "source": [
    "new_medical_report_nrs = [\n",
    "    report_nr\n",
    "    for patient_reports in all_data_filtered.values()\n",
    "    for report_nr in patient_reports.keys()\n",
    "]\n",
    "print(len(new_medical_report_nrs))"
   ]
  },
  {
   "cell_type": "code",
   "execution_count": 59,
   "metadata": {},
   "outputs": [],
   "source": [
    "with open(f\"./data/medical_reports/H&E_IHC_plus_report_all_data_preprocessed.json\", \"w\") as f:\n",
    "    json.dump(all_data_filtered, f, indent=4)"
   ]
  }
 ],
 "metadata": {
  "kernelspec": {
   "display_name": "blipenv",
   "language": "python",
   "name": "python3"
  },
  "language_info": {
   "codemirror_mode": {
    "name": "ipython",
    "version": 3
   },
   "file_extension": ".py",
   "mimetype": "text/x-python",
   "name": "python",
   "nbconvert_exporter": "python",
   "pygments_lexer": "ipython3",
   "version": "3.8.10"
  }
 },
 "nbformat": 4,
 "nbformat_minor": 2
}
